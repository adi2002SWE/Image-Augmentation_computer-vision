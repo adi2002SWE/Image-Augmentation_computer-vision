{
 "cells": [
  {
   "cell_type": "code",
   "execution_count": null,
   "metadata": {},
   "outputs": [],
   "source": [
    "import cv2\n",
    "import numpy as np\n",
    "from google.colab.patches import cv2_imshow"
   ]
  },
  {
   "cell_type": "code",
   "execution_count": null,
   "metadata": {},
   "outputs": [],
   "source": [
    "img=cv2.imread('/content/Dog.jpg',0)\n",
    "img.shape"
   ]
  },
  {
   "cell_type": "code",
   "execution_count": null,
   "metadata": {},
   "outputs": [],
   "source": [
    "print(\"Original Image\")\n",
    "cv2_imshow(img)"
   ]
  },
  {
   "cell_type": "code",
   "execution_count": null,
   "metadata": {},
   "outputs": [],
   "source": [
    "img= cv2.resize(img, (400, 250))\n",
    "print(\"ReSized Image\")\n",
    "cv2_imshow(img)"
   ]
  },
  {
   "cell_type": "code",
   "execution_count": null,
   "metadata": {},
   "outputs": [],
   "source": [
    "dx=100\n",
    "dy=50\n",
    "matrix=np.array([[1,0,dx],\n",
    "                [0,1,dy],\n",
    "                [0,0,1]], np.float32)\n",
    "trans_img=cv2.warpPerspective(img, matrix, (img.shape[1], img.shape[0]))\n",
    "\n",
    "print(\"Translated Image\")\n",
    "cv2_imshow(trans_img)"
   ]
  },
  {
   "cell_type": "code",
   "execution_count": null,
   "metadata": {},
   "outputs": [],
   "source": [
    "angle=30\n",
    "center =(img.shape[1]//2,img.shape[0]//2)\n",
    "matrix=cv2.getRotationMatrix2D(center, angle, 1.0)\n",
    "rotated_img=cv2.warpAffine(img, matrix, (img.shape[1], img.shape[0]))\n",
    "\n",
    "print(\"Rotated Image\")\n",
    "cv2_imshow(rotated_img)"
   ]
  },
  {
   "cell_type": "code",
   "execution_count": null,
   "metadata": {},
   "outputs": [],
   "source": [
    "scale_x=1.5\n",
    "scale_y=0.5\n",
    "matrix=np.float32([[scale_x,0,0],\n",
    "                   [0,scale_y, 0]])\n",
    "\n",
    "scaled_img=cv2.warpAffine(img, matrix, (img.shape[1], img.shape[0]))\n",
    "\n",
    "print(\"Scaled Image\")\n",
    "cv2_imshow(scaled_img)"
   ]
  },
  {
   "cell_type": "code",
   "execution_count": null,
   "metadata": {},
   "outputs": [],
   "source": [
    "flipped_horizontal=cv2.flip(img,1)\n",
    "flipped_vertical=cv2.flip(img,0)\n",
    "flipped_both=cv2.flip(img,-1)\n",
    "\n",
    "print(\"flipped_horizontal Image\")\n",
    "cv2_imshow(flipped_horizontal)\n",
    "print(\"flipped_vertical Image\")\n",
    "cv2_imshow(flipped_vertical)\n",
    "print(\"flipped_both Image\")\n",
    "cv2_imshow(flipped_both)"
   ]
  },
  {
   "cell_type": "code",
   "execution_count": null,
   "metadata": {},
   "outputs": [],
   "source": [
    "shear_factor_x=0.5\n",
    "shear_factor_y=-0.3\n",
    "matrix=np.float32([[1, shear_factor_x,0],\n",
    "                  [shear_factor_y,1,0]])\n",
    "sheared_img=cv2.warpAffine(img, matrix, (img.shape[1], img.shape[0]))\n",
    "\n",
    "print(\"sheared Image\")\n",
    "cv2_imshow(sheared_img)"
   ]
  },
  {
   "cell_type": "code",
   "execution_count": null,
   "metadata": {},
   "outputs": [],
   "source": [
    "mean = 2\n",
    "std_dev = 15\n",
    "noise = np.random.normal(mean, std_dev, img.shape).astype('uint8')\n",
    "noisy_img= cv2.add(img, noise)\n",
    "\n",
    "print(\"Noisy image\")\n",
    "cv2_imshow(noisy_img )"
   ]
  },
  {
   "cell_type": "code",
   "execution_count": null,
   "metadata": {},
   "outputs": [],
   "source": [
    "alpha = 1.5  # Contrast control (1.0 for no change)\n",
    "beta = 30   # Brightness control (0 for no change)\n",
    "bright_contrast_img = cv2.convertScaleAbs(img, alpha=alpha, beta=beta)\n",
    "\n",
    "print(\"Bright & contrast image\")\n",
    "cv2_imshow(bright_contrast_img)"
   ]
  },
  {
   "cell_type": "code",
   "execution_count": null,
   "metadata": {},
   "outputs": [],
   "source": [
    "blurred_image = cv2.GaussianBlur(img, (7, 7), 0)\n",
    "\n",
    "print(\"Blurred image\")\n",
    "cv2_imshow(blurred_image)"
   ]
  },
  {
   "cell_type": "code",
   "execution_count": null,
   "metadata": {},
   "outputs": [],
   "source": [
    "x, y, width, height = 230, 30, 100, 90\n",
    "cropped_image = img[y:y+height, x:x+width]\n",
    "\n",
    "print(\"Cropped image\")\n",
    "cv2_imshow(cropped_image)"
   ]
  }
 ],
 "metadata": {
  "kernelspec": {
   "display_name": "Python 3 (ipykernel)",
   "language": "python",
   "name": "python3"
  },
  "language_info": {
   "codemirror_mode": {
    "name": "ipython",
    "version": 3
   },
   "file_extension": ".py",
   "mimetype": "text/x-python",
   "name": "python",
   "nbconvert_exporter": "python",
   "pygments_lexer": "ipython3",
   "version": "3.9.12"
  }
 },
 "nbformat": 4,
 "nbformat_minor": 2
}
